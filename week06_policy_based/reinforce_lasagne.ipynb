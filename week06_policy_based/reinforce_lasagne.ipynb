{
 "cells": [
  {
   "cell_type": "markdown",
   "metadata": {},
   "source": [
    "# REINFORCE in lasagne\n",
    "\n",
    "Just like we did before for q-learning, this time we'll design a lasagne network to learn `CartPole-v0` via policy gradient (REINFORCE).\n",
    "\n",
    "Most of the code in this notebook is taken from approximate qlearning, so you'll find it more or less familiar and even simpler."
   ]
  },
  {
   "cell_type": "markdown",
   "metadata": {},
   "source": [
    "__Frameworks__ - we'll accept this homework in any deep learning framework. For example, it translates to TensorFlow almost line-to-line. However, we recommend you to stick to theano/lasagne unless you're certain about your skills in the framework of your choice."
   ]
  },
  {
   "cell_type": "code",
   "execution_count": null,
   "metadata": {},
   "outputs": [],
   "source": [
    "%env THEANO_FLAGS = 'floatX=float32'",
    "\n",
    "import os",
    "\n",
    "if type(os.environ.get(\"DISPLAY\")) is not str or len(os.environ.get(\"DISPLAY\")) == 0:",
    "\n",
    "    !bash ../xvfb start",
    "\n",
    "    %env DISPLAY = : 1"
   ]
  },
  {
   "cell_type": "code",
   "execution_count": null,
   "metadata": {},
   "outputs": [],
   "source": [
    "import gym",
    "\n",
    "import numpy as np",
    "\n",
    "import pandas as pd",
    "\n",
    "import matplotlib.pyplot as plt",
    "\n",
    "%matplotlib inline",
    "\n",
    "\n",
    "env = gym.make(\"CartPole-v0\").env",
    "\n",
    "env.reset()",
    "\n",
    "n_actions = env.action_space.n",
    "\n",
    "state_dim = env.observation_space.shape",
    "\n",
    "\n",
    "plt.imshow(env.render(\"rgb_array\"))"
   ]
  },
  {
   "cell_type": "markdown",
   "metadata": {},
   "source": [
    "# Building the network for REINFORCE"
   ]
  },
  {
   "cell_type": "markdown",
   "metadata": {},
   "source": [
    "For REINFORCE algorithm, we'll need a model that predicts action probabilities given states."
   ]
  },
  {
   "cell_type": "code",
   "execution_count": null,
   "metadata": {},
   "outputs": [],
   "source": [
    "import theano",
    "\n",
    "import theano.tensor as T",
    "\n",
    "\n",
    "# create input variables. We'll support multiple states at once",
    "\n",
    "\n",
    "states = T.matrix(\"states[batch,units]\")",
    "\n",
    "actions = T.ivector(\"action_ids[batch]\")",
    "\n",
    "cumulative_rewards = T.vector(\"G[batch] = r + gamma*r' + gamma^2*r'' + ...\")"
   ]
  },
  {
   "cell_type": "code",
   "execution_count": null,
   "metadata": {},
   "outputs": [],
   "source": [
    "import lasagne",
    "\n",
    "from lasagne.layers import *",
    "\n",
    "\n",
    "# input layer",
    "\n",
    "l_states = InputLayer((None,)+state_dim, input_var=states)",
    "\n",
    "\n",
    "\n",
    "<Your architecture. Please start with a 1-2 layers with 50-200 neurons >",
    "\n",
    "\n",
    "# output layer",
    "\n",
    "# this time we need to predict action probabilities,",
    "\n",
    "# so make sure your nonlinearity forces p>0 and sum_p = 1",
    "\n",
    "l_action_probas = DenseLayer( < ... > ,",
    "\n",
    "                             num_units= < ... > ,",
    "\n",
    "                             nonlinearity= < ... > )"
   ]
  },
  {
   "cell_type": "markdown",
   "metadata": {},
   "source": [
    "#### Predict function"
   ]
  },
  {
   "cell_type": "code",
   "execution_count": null,
   "metadata": {},
   "outputs": [],
   "source": [
    "# get probabilities of actions",
    "\n",
    "predicted_probas = get_output(l_action_probas)",
    "\n",
    "\n",
    "# predict action probability given state",
    "\n",
    "# if you use float32, set allow_input_downcast=True",
    "\n",
    "predict_proba = <compile a function that takes states and returns predicted_probas >"
   ]
  },
  {
   "cell_type": "markdown",
   "metadata": {},
   "source": [
    "#### Loss function and updates\n",
    "\n",
    "We now need to define objective and update over policy gradient.\n",
    "\n",
    "Our objective function is\n",
    "\n",
    "$$ J \\approx  { 1 \\over N } \\sum  _{s_i,a_i} \\pi_\\theta (a_i | s_i) \\cdot G(s_i,a_i) $$\n",
    "\n",
    "\n",
    "Following the REINFORCE algorithm, we can define our objective as follows: \n",
    "\n",
    "$$ \\hat J \\approx { 1 \\over N } \\sum  _{s_i,a_i} log \\pi_\\theta (a_i | s_i) \\cdot G(s_i,a_i) $$\n",
    "\n",
    "When you compute gradient of that function over network weights $ \\theta $, it will become exactly the policy gradient.\n"
   ]
  },
  {
   "cell_type": "code",
   "execution_count": null,
   "metadata": {},
   "outputs": [],
   "source": [
    "# select probabilities for chosen actions, pi(a_i|s_i)",
    "\n",
    "predicted_probas_for_actions = predicted_probas[T.arange(",
    "\n",
    "    actions.shape[0]), actions]"
   ]
  },
  {
   "cell_type": "code",
   "execution_count": null,
   "metadata": {},
   "outputs": [],
   "source": [
    "# REINFORCE objective function",
    "\n",
    "J =  # <policy objective as in the last formula. Please use mean, not sum.>"
   ]
  },
  {
   "cell_type": "code",
   "execution_count": null,
   "metadata": {},
   "outputs": [],
   "source": [
    "# all network weights",
    "\n",
    "all_weights = <get all \"thetas\" aka network weights using lasagne >",
    "\n",
    "\n",
    "# weight updates. maximize J = minimize -J",
    "\n",
    "updates = lasagne.updates.sgd(-J, all_weights, learning_rate=0.01)"
   ]
  },
  {
   "cell_type": "code",
   "execution_count": null,
   "metadata": {},
   "outputs": [],
   "source": [
    "train_step = theano.function([states, actions, cumulative_rewards], updates=updates,",
    "\n",
    "                             allow_input_downcast=True)"
   ]
  },
  {
   "cell_type": "markdown",
   "metadata": {},
   "source": [
    "### Computing cumulative rewards"
   ]
  },
  {
   "cell_type": "code",
   "execution_count": null,
   "metadata": {},
   "outputs": [],
   "source": [
    "\n",
    "\n",
    "def get_cumulative_rewards(rewards,  # rewards at each step",
    "\n",
    "                           gamma=0.99  # discount for reward",
    "\n",
    "                           ):",
    "\n",
    "    \"\"\"",
    "\n",
    "    take a list of immediate rewards r(s,a) for the whole session ",
    "\n",
    "    compute cumulative returns (a.k.a. G(s,a) in Sutton '16)",
    "\n",
    "    G_t = r_t + gamma*r_{t+1} + gamma^2*r_{t+2} + ...",
    "\n",
    "\n",
    "    The simple way to compute cumulative rewards is to iterate from last to first time tick",
    "\n",
    "    and compute G_t = r_t + gamma*G_{t+1} recurrently",
    "\n",
    "\n",
    "    You must return an array/list of cumulative rewards with as many elements as in the initial rewards.",
    "\n",
    "    \"\"\"",
    "\n",
    "\n",
    "    <your code here >",
    "\n",
    "\n",
    "    return < array of cumulative rewards >"
   ]
  },
  {
   "cell_type": "code",
   "execution_count": null,
   "metadata": {},
   "outputs": [],
   "source": [
    "assert len(get_cumulative_rewards(range(100))) == 100",
    "\n",
    "assert np.allclose(get_cumulative_rewards([0, 0, 1, 0, 0, 1, 0], gamma=0.9), [",
    "\n",
    "                   1.40049, 1.5561, 1.729, 0.81, 0.9, 1.0, 0.0])",
    "\n",
    "assert np.allclose(get_cumulative_rewards(",
    "\n",
    "    [0, 0, 1, -2, 3, -4, 0], gamma=0.5), [0.0625, 0.125, 0.25, -1.5, 1.0, -4.0, 0.0])",
    "\n",
    "assert np.allclose(get_cumulative_rewards(",
    "\n",
    "    [0, 0, 1, 2, 3, 4, 0], gamma=0), [0, 0, 1, 2, 3, 4, 0])",
    "\n",
    "print(\"looks good!\")"
   ]
  },
  {
   "cell_type": "markdown",
   "metadata": {},
   "source": [
    "### Playing the game"
   ]
  },
  {
   "cell_type": "code",
   "execution_count": null,
   "metadata": {},
   "outputs": [],
   "source": [
    "def generate_session(t_max=1000):",
    "\n",
    "    \"\"\"play env with REINFORCE agent and train at the session end\"\"\"",
    "\n",
    "\n",
    "    # arrays to record session",
    "\n",
    "    states, actions, rewards = [], [], []",
    "\n",
    "\n",
    "    s = env.reset()",
    "\n",
    "\n",
    "    for t in range(t_max):",
    "\n",
    "\n",
    "        # action probabilities array aka pi(a|s)",
    "\n",
    "        action_probas = predict_proba([s])[0]",
    "\n",
    "\n",
    "        a = <sample action with given probabilities >",
    "\n",
    "\n",
    "        new_s, r, done, info = env.step(a)",
    "\n",
    "\n",
    "        # record session history to train later",
    "\n",
    "        states.append(s)",
    "\n",
    "        actions.append(a)",
    "\n",
    "        rewards.append(r)",
    "\n",
    "\n",
    "        s = new_s",
    "\n",
    "        if done:",
    "\n",
    "            break",
    "\n",
    "\n",
    "    cumulative_rewards = get_cumulative_rewards(rewards)",
    "\n",
    "    train_step(states, actions, cumulative_rewards)",
    "\n",
    "\n",
    "    return sum(rewards)"
   ]
  },
  {
   "cell_type": "code",
   "execution_count": null,
   "metadata": {},
   "outputs": [],
   "source": [
    "for i in range(100):",
    "\n",
    "\n",
    "    rewards = [generate_session() for _ in range(100)]  # generate new sessions",
    "\n",
    "\n",
    "    print(\"mean reward:%.3f\" % (np.mean(rewards)))",
    "\n",
    "\n",
    "    if np.mean(rewards) > 300:",
    "\n",
    "        print(\"You Win!\")",
    "\n",
    "        break"
   ]
  },
  {
   "cell_type": "markdown",
   "metadata": {},
   "source": [
    "### Video"
   ]
  },
  {
   "cell_type": "code",
   "execution_count": null,
   "metadata": {},
   "outputs": [],
   "source": [
    "# record sessions",
    "\n",
    "import gym.wrappers",
    "\n",
    "env = gym.wrappers.Monitor(gym.make(\"CartPole-v0\"),",
    "\n",
    "                           directory=\"videos\", force=True)",
    "\n",
    "sessions = [generate_session() for _ in range(100)]",
    "\n",
    "env.close()"
   ]
  },
  {
   "cell_type": "code",
   "execution_count": null,
   "metadata": {},
   "outputs": [],
   "source": [
    "# show video",
    "\n",
    "from IPython.display import HTML",
    "\n",
    "import os",
    "\n",
    "\n",
    "video_names = list(",
    "\n",
    "    filter(lambda s: s.endswith(\".mp4\"), os.listdir(\"./videos/\")))",
    "\n",
    "\n",
    "HTML(\"\"\"",
    "\n",
    "<video width=\"640\" height=\"480\" controls>",
    "\n",
    "  <source src=\"{}\" type=\"video/mp4\">",
    "\n",
    "</video>",
    "\n",
    "\"\"\".format(\"./videos/\"+video_names[-1]))  # this may or may not be _last_ video. Try other indices"
   ]
  },
  {
   "cell_type": "code",
   "execution_count": null,
   "metadata": {},
   "outputs": [],
   "source": []
  }
 ],
 "metadata": {
  "language_info": {
   "name": "python",
   "pygments_lexer": "ipython3"
  }
 },
 "nbformat": 4,
 "nbformat_minor": 1
}
